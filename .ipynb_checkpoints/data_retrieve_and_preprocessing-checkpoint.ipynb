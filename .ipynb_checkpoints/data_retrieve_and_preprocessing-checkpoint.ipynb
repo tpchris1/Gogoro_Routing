{
 "cells": [
  {
   "cell_type": "markdown",
   "metadata": {},
   "source": [
    "# Data retrieve and preprocessing\n",
    "## Normal import"
   ]
  },
  {
   "cell_type": "code",
   "execution_count": null,
   "metadata": {},
   "outputs": [],
   "source": [
    "import requests\n",
    "import pandas as pd"
   ]
  },
  {
   "cell_type": "markdown",
   "metadata": {},
   "source": [
    "## Google colab import and install"
   ]
  },
  {
   "cell_type": "code",
   "execution_count": null,
   "metadata": {},
   "outputs": [],
   "source": [
    "# Cell for google colab\n",
    "from google.colab import drive\n",
    "drive.mount('/content/drive')\n"
   ]
  },
  {
   "cell_type": "markdown",
   "metadata": {},
   "source": [
    "## Retrieve through link"
   ]
  },
  {
   "cell_type": "code",
   "execution_count": null,
   "metadata": {},
   "outputs": [],
   "source": [
    "# not working since api url is currently unavailable\n",
    "# data_url='https://wapi.gogoro.com/tw/api/vm/list'\n",
    "# r = requests.get(data_url,stream = True) #stream=True #開啟時時續續的下載的方式\n",
    "# r.encoding = 'utf-8'\n",
    "# print(r.encoding)\n",
    "# with open('./data.txt','wb') as f: \n",
    "#     for chunk in r.iter_content(chunk_size=32): #chunk_size #設定每次下載檔案的大小\n",
    "#         f.write(chunk)  #每一次迴圈儲存一次下載下來的內容\n",
    "# f.close"
   ]
  },
  {
   "cell_type": "markdown",
   "metadata": {},
   "source": [
    "## Import from local file"
   ]
  },
  {
   "cell_type": "code",
   "execution_count": null,
   "metadata": {},
   "outputs": [],
   "source": [
    "import json\n",
    "file_url = \"data/raw_data.json\"\n",
    "file_url_google_colab = \"/content/drive/My Drive/Gogoro_Routing/data/raw_data.json\"\n",
    "with open(file_url, 'r', encoding='utf-8') as f:\n",
    "    data = json.load(f)\n",
    "station_df = pd.DataFrame(data['data'])\n",
    "station_df = station_df.set_index('Id')\n",
    "station_df.head()\n",
    "# station_df.iloc[0]"
   ]
  },
  {
   "cell_type": "code",
   "execution_count": null,
   "metadata": {},
   "outputs": [],
   "source": [
    "# Change columns order for better view\n",
    "cols = station_df.columns.tolist()\n",
    "cols = [\n",
    "'LocName',\n",
    "'Address',\n",
    "'District',\n",
    "'City',\n",
    "'ZipCode',\n",
    "'Latitude',\n",
    "'Longitude',\n",
    "'State',\n",
    "'AvailableTime',\n",
    "'AvailableTimeByte']\n",
    "station_df = station_df[cols]\n",
    "station_df.head()\n",
    "# index方法\n",
    "station_df.loc['45FC384A-CA7D-43B3-98A7-8A5B635331F5'.lower()]['Latitude']"
   ]
  },
  {
   "cell_type": "code",
   "execution_count": null,
   "metadata": {},
   "outputs": [],
   "source": [
    "file_url = 'data/station_info.csv'\n",
    "file_url_google_colab = ''\n",
    "station_df.to_csv(file_url,encoding='utf-8')"
   ]
  },
  {
   "cell_type": "code",
   "execution_count": null,
   "metadata": {},
   "outputs": [],
   "source": [
    "# station_df = pd.read_csv(file_url)"
   ]
  },
  {
   "cell_type": "markdown",
   "metadata": {},
   "source": [
    "## Calculate latitude longitude matrix"
   ]
  },
  {
   "cell_type": "code",
   "execution_count": null,
   "metadata": {},
   "outputs": [],
   "source": [
    "# Construct ll_matrix\n",
    "size = len(df)\n",
    "ll_df = pd.DataFrame(index=range(size),columns=range(size))\n",
    "\n",
    "#建一個站點名的list\n",
    "lst = []\n",
    "for i in range(size):\n",
    "    lst.append(df.index[i])\n",
    "\n",
    "ll_df.index = list(lst)\n",
    "ll_df.columns = lst\n",
    "# print(df.index[0])\n",
    "for i in range(size):\n",
    "    for j in range(i+1,size):\n",
    "        station1 = df.index[i]\n",
    "        station2 = df.index[j]\n",
    "        coord_0 = (df.loc[station1]['Latitude'],df.loc[station1]['Longitude'])\n",
    "        coord_1 = (df.loc[station2]['Latitude'],df.loc[station2]['Longitude'])\n",
    "        ll_distance = geopy.distance.distance(coord_0,coord_1).km\n",
    "        ll_df.loc[station1, station2] = ll_distance\n",
    "\n",
    "# output ll_df to .csv\n",
    "file_url_ll_df = ''\n",
    "file_url_google_colab_ll_df = '/content/drive/My Drive/Gogoro_Routing/data/ll_matrix.csv'\n",
    "ll_df.to_csv(file_url_google_colab_ll_df)\n",
    "ll_df.head()"
   ]
  }
 ],
 "metadata": {
  "kernelspec": {
   "display_name": "Python 3",
   "language": "python",
   "name": "python3"
  },
  "language_info": {
   "codemirror_mode": {
    "name": "ipython",
    "version": 3
   },
   "file_extension": ".py",
   "mimetype": "text/x-python",
   "name": "python",
   "nbconvert_exporter": "python",
   "pygments_lexer": "ipython3",
   "version": "3.7.3"
  }
 },
 "nbformat": 4,
 "nbformat_minor": 2
}
