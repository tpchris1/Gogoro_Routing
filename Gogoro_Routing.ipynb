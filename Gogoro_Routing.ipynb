{
 "cells": [
  {
   "cell_type": "code",
   "execution_count": 65,
   "metadata": {},
   "outputs": [],
   "source": [
    "import requests\n",
    "import pandas as pd"
   ]
  },
  {
   "cell_type": "code",
   "execution_count": 66,
   "metadata": {
    "tags": []
   },
   "outputs": [],
   "source": [
    "# not working since api url is currently unavailable\n",
    "# data_url='https://wapi.gogoro.com/tw/api/vm/list'\n",
    "# r = requests.get(data_url,stream = True) #stream=True #開啟時時續續的下載的方式\n",
    "# r.encoding = 'utf-8'\n",
    "# print(r.encoding)\n",
    "# with open('./data.txt','wb') as f: \n",
    "#     for chunk in r.iter_content(chunk_size=32): #chunk_size #設定每次下載檔案的大小\n",
    "#         f.write(chunk)  #每一次迴圈儲存一次下載下來的內容\n",
    "# f.close"
   ]
  },
  {
   "cell_type": "code",
   "execution_count": 67,
   "metadata": {},
   "outputs": [],
   "source": [
    "# import os\n",
    "# import sys\n",
    "# import fileinput\n",
    "# f1 = open('./data.txt', 'r')\n",
    "# f2 = open('./new_data.txt', 'w')\n",
    "# for line in f1:\n",
    "#     f2.write(line.replace(\"\\\\\", 'new_text'))\n",
    "# f1.close()\n",
    "# f2.close()"
   ]
  },
  {
   "cell_type": "code",
   "execution_count": 88,
   "metadata": {
    "tags": []
   },
   "outputs": [
    {
     "output_type": "execute_result",
     "data": {
      "text/plain": "Address              { List : [{ Value :  No. 478, Guangfu Rd., Huw...\nAvailableTime                                                     24HR\nAvailableTimeByte                                                 None\nCity                 { List :[{ Value : Yunlin County , Lang : en-U...\nDistrict             { List : [{ Value :  Huwei Township , Lang :  ...\nLatitude                                                       23.7112\nLocName              { List : [{ Value :  Gogoro Huwei Guangfu RS C...\nLongitude                                                      120.434\nState                                                                1\nZipCode                                                          63244\nName: 865a6d73-ab7d-4176-a542-09898fbf7dca, dtype: object"
     },
     "metadata": {},
     "execution_count": 88
    }
   ],
   "source": [
    "import json\n",
    "with open('data/raw_data.json', 'r', encoding='utf-8') as f:\n",
    "    data = json.load(f)\n",
    "processed_data = []\n",
    "df = pd.DataFrame(data['data'])\n",
    "df = df.set_index('Id')\n",
    "# df.head()\n",
    "df.iloc[0]\n"
   ]
  },
  {
   "cell_type": "code",
   "execution_count": 94,
   "metadata": {},
   "outputs": [
    {
     "output_type": "execute_result",
     "data": {
      "text/plain": "25.140639"
     },
     "metadata": {},
     "execution_count": 94
    }
   ],
   "source": [
    "# Change columns order for better view\n",
    "cols = df.columns.tolist()\n",
    "cols = [\n",
    "'LocName',\n",
    "'Address',\n",
    "'District',\n",
    "'City',\n",
    "'ZipCode',\n",
    "'Latitude',\n",
    "'Longitude',\n",
    "'State',\n",
    "'AvailableTime',\n",
    "'AvailableTimeByte']\n",
    "df = df[cols]\n",
    "df.head()\n",
    "# index方法\n",
    "df.loc['45FC384A-CA7D-43B3-98A7-8A5B635331F5'.lower()]['Latitude']\n"
   ]
  },
  {
   "cell_type": "code",
   "execution_count": null,
   "metadata": {},
   "outputs": [],
   "source": []
  },
  {
   "cell_type": "code",
   "execution_count": 100,
   "metadata": {
    "tags": []
   },
   "outputs": [
    {
     "output_type": "stream",
     "name": "stdout",
     "text": "ll_distance:  1.4162488132709516 km\ngmap_distance: 4.9 km\n"
    }
   ],
   "source": [
    "# Comparing distance calculate method \n",
    "import geopy.distance\n",
    "import googlemaps\n",
    "import requests\n",
    "\n",
    "# find two sample stations -> LocName=['HiLife 八里聖心店站', '新北市民生立體停車場站']\n",
    "sample_station = ['45FC384A-CA7D-43B3-98A7-8A5B635331F5','C9B55157-153A-4C07-91D5-A3C9131F110D']\n",
    "sample_station = [i.lower() for i in sample_station]\n",
    "# ss_index = [df[df['Id'].str.contains(sample_station[0])].index,df[df['Id'].str.contains(sample_station[1])].index]\n",
    "\n",
    "\n",
    "# Method 1: Lat Long calculate\n",
    "coord_0 = (df.loc[sample_station[0]]['Latitude'],df.loc[sample_station[0]]['Longitude'])\n",
    "coord_1 = (df.loc[sample_station[1]]['Latitude'],df.loc[sample_station[1]]['Longitude'])\n",
    "ll_distance = geopy.distance.distance(coord_0,coord_1).km\n",
    "print('ll_distance: ', ll_distance, 'km')\n",
    "\n",
    "# Method 2: Google distance matrix \n",
    "f = open('confidential/gmap_api_key.txt',encoding=\"utf-8\")\n",
    "gmaps_key = f.readline() \n",
    "url = 'https://maps.googleapis.com/maps/api/distancematrix/json?'\n",
    "url += 'origins='+str(coord_0[0])+','+str(coord_0[1])\n",
    "url += '&destinations='+str(coord_1[0])+','+str(coord_1[1])\n",
    "url += '&mode=driving'\n",
    "url += '&avoid=tolls|highways|ferries'\n",
    "url += '&key='+gmaps_key\n",
    "url\n",
    "resp = requests.get(url)\n",
    "print('gmap_distance:',resp.json()['rows'][0]['elements'][0]['distance']['text'])\n",
    "\n",
    "# gmaps api沒辦法支持多avoid\n",
    "# gmaps = googlemaps.Client(key=gmaps_key)\n",
    "# gmaps.distance_matrix(origins=str(coord_0[0])+','+str(coord_0[1]),destinations=str(coord_1[0])+','+str(coord_1[1]), mode='driving', avoid='tolls|highways')\n"
   ]
  },
  {
   "cell_type": "code",
   "execution_count": null,
   "metadata": {},
   "outputs": [],
   "source": [
    "# Construct adjacent graph for stations\n",
    "df_graph =  \n"
   ]
  },
  {
   "cell_type": "code",
   "execution_count": null,
   "metadata": {},
   "outputs": [],
   "source": []
  }
 ],
 "metadata": {
  "kernelspec": {
   "display_name": "Python 3",
   "language": "python",
   "name": "python3"
  },
  "language_info": {
   "codemirror_mode": {
    "name": "ipython",
    "version": 3
   },
   "file_extension": ".py",
   "mimetype": "text/x-python",
   "name": "python",
   "nbconvert_exporter": "python",
   "pygments_lexer": "ipython3",
   "version": "3.7.3-final"
  }
 },
 "nbformat": 4,
 "nbformat_minor": 2
}