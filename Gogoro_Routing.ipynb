{
 "cells": [
  {
   "cell_type": "code",
   "execution_count": 6,
   "metadata": {},
   "outputs": [],
   "source": [
    "import requests\n",
    "import pandas as pd"
   ]
  },
  {
   "cell_type": "code",
   "execution_count": 7,
   "metadata": {},
   "outputs": [
    {
     "name": "stdout",
     "output_type": "stream",
     "text": [
      "utf-8\n"
     ]
    },
    {
     "data": {
      "text/plain": [
       "<function BufferedWriter.close>"
      ]
     },
     "execution_count": 7,
     "metadata": {},
     "output_type": "execute_result"
    }
   ],
   "source": [
    "data_url='https://wapi.gogoro.com/tw/api/vm/list'\n",
    "r = requests.get(data_url,stream = True) #stream=True #開啟時時續續的下載的方式\n",
    "r.encoding = 'utf-8'\n",
    "print(r.encoding)\n",
    "with open('./data.txt','wb') as f: \n",
    "    for chunk in r.iter_content(chunk_size=32): #chunk_size #設定每次下載檔案的大小\n",
    "        f.write(chunk)  #每一次迴圈儲存一次下載下來的內容\n",
    "f.close"
   ]
  },
  {
   "cell_type": "code",
   "execution_count": 1,
   "metadata": {},
   "outputs": [],
   "source": [
    "# import os\n",
    "# import sys\n",
    "# import fileinput\n",
    "# f1 = open('./data.txt', 'r')\n",
    "# f2 = open('./new_data.txt', 'w')\n",
    "# for line in f1:\n",
    "#     f2.write(line.replace(\"\\\\\", 'new_text'))\n",
    "# f1.close()\n",
    "# f2.close()"
   ]
  },
  {
   "cell_type": "code",
   "execution_count": 14,
   "metadata": {},
   "outputs": [
    {
     "name": "stdout",
     "output_type": "stream",
     "text": [
      "<class 'pandas.core.frame.DataFrame'>\n",
      "RangeIndex: 2255 entries, 0 to 2254\n",
      "Data columns (total 4 columns):\n",
      "result        2255 non-null int64\n",
      "message       2255 non-null object\n",
      "data          2255 non-null object\n",
      "error_code    0 non-null object\n",
      "dtypes: int64(1), object(3)\n",
      "memory usage: 70.6+ KB\n",
      "None\n"
     ]
    }
   ],
   "source": [
    "import json\n",
    "with open('./new_data.json', 'r') as f:\n",
    "    data = json.load(f)\n",
    "df = pd.DataFrame(data)\n",
    "print(df.info(verbose=True))\n"
   ]
  }
 ],
 "metadata": {
  "kernelspec": {
   "display_name": "Python 3",
   "language": "python",
   "name": "python3"
  },
  "language_info": {
   "codemirror_mode": {
    "name": "ipython",
    "version": 3
   },
   "file_extension": ".py",
   "mimetype": "text/x-python",
   "name": "python",
   "nbconvert_exporter": "python",
   "pygments_lexer": "ipython3",
   "version": "3.7.4"
  }
 },
 "nbformat": 4,
 "nbformat_minor": 2
}
