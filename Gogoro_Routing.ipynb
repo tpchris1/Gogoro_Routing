{
 "cells": [
  {
   "cell_type": "code",
   "execution_count": 6,
   "metadata": {},
   "outputs": [],
   "source": [
    "import requests\n",
    "import pandas as pd"
   ]
  },
  {
   "cell_type": "code",
   "execution_count": 7,
   "metadata": {},
   "outputs": [
    {
     "name": "stdout",
     "output_type": "stream",
     "text": [
      "utf-8\n"
     ]
    },
    {
     "data": {
      "text/plain": [
       "<function BufferedWriter.close>"
      ]
     },
     "execution_count": 7,
     "metadata": {},
     "output_type": "execute_result"
    }
   ],
   "source": [
    "data_url='https://wapi.gogoro.com/tw/api/vm/list'\n",
    "r = requests.get(data_url,stream = True) #stream=True #開啟時時續續的下載的方式\n",
    "r.encoding = 'utf-8'\n",
    "print(r.encoding)\n",
    "with open('./data.txt','wb') as f: \n",
    "    for chunk in r.iter_content(chunk_size=32): #chunk_size #設定每次下載檔案的大小\n",
    "        f.write(chunk)  #每一次迴圈儲存一次下載下來的內容\n",
    "f.close"
   ]
  },
  {
   "cell_type": "code",
   "execution_count": 1,
   "metadata": {},
   "outputs": [],
   "source": []
  },
  {
   "cell_type": "code",
   "execution_count": 28,
   "metadata": {},
   "outputs": [
    {
     "name": "stdout",
     "output_type": "stream",
     "text": [
      "                                                                                LocName  \\\n",
      "Id                                                                                        \n",
      "865a6d73-ab7d-4176-a542-09898fbf7dca  { List : [{ Value :  Gogoro Huwei Guangfu RS C...   \n",
      "cc480eeb-93c4-49b1-9b12-15474249b5bf  { List : [{ Value :  Pxmart YL Douliu Store , ...   \n",
      "5a72a2fb-505c-476b-a796-17fcf769c99a  { List : [{ Value :  7-ELEVEN Zhu Danwan Store...   \n",
      "41c44a19-d494-4845-a659-19d5cba5b29a  { List : [{ Value :  CPC Tuku GS , Lang :  en-...   \n",
      "5dfa7fd8-2148-4fb2-b3b3-2d98949c0227  { List : [{ Value :  Pxmart HW Zhongzhen Store...   \n",
      "...                                                                                 ...   \n",
      "b40c5eb7-7606-4b93-87ca-02fe58da5838  { List :[{ Value : Familymart Yongkang Zhongxi...   \n",
      "f3a88903-7cc3-482c-856f-02a23ca5b87b  { List :[{ Value : Fuqianting 18 Parking Store...   \n",
      "16a11557-2db4-4fb9-a6d0-06bde48315fd  { List :[{ Value : CPC Zhonghualudong GS , Lan...   \n",
      "b9540af6-960a-4ace-9897-0418f752dced  { List :[{ Value : Guanmiao District Store , L...   \n",
      "b407e167-2fa1-4a42-8aa2-040677b460bf  { List :[{ Value : 7-ELEVEN Xinqian Store , La...   \n",
      "\n",
      "                                       Latitude   Longitude ZipCode  \\\n",
      "Id                                                                    \n",
      "865a6d73-ab7d-4176-a542-09898fbf7dca  23.711194  120.433871   63244   \n",
      "cc480eeb-93c4-49b1-9b12-15474249b5bf  23.703846  120.550589   64043   \n",
      "5a72a2fb-505c-476b-a796-17fcf769c99a  23.715782  120.530489   64049   \n",
      "41c44a19-d494-4845-a659-19d5cba5b29a  23.678779  120.393428   63345   \n",
      "5dfa7fd8-2148-4fb2-b3b3-2d98949c0227  23.707607  120.431245   63246   \n",
      "...                                         ...         ...     ...   \n",
      "b40c5eb7-7606-4b93-87ca-02fe58da5838  23.003924  120.239968   71074   \n",
      "f3a88903-7cc3-482c-856f-02a23ca5b87b  22.992178  120.189030   70046   \n",
      "16a11557-2db4-4fb9-a6d0-06bde48315fd  22.977093  120.226121   70168   \n",
      "b9540af6-960a-4ace-9897-0418f752dced  22.963004  120.327447   71846   \n",
      "b407e167-2fa1-4a42-8aa2-040677b460bf  23.082247  120.299482   74445   \n",
      "\n",
      "                                                                                Address  \\\n",
      "Id                                                                                        \n",
      "865a6d73-ab7d-4176-a542-09898fbf7dca  { List : [{ Value :  No. 478, Guangfu Rd., Huw...   \n",
      "cc480eeb-93c4-49b1-9b12-15474249b5bf  { List : [{ Value :  No. 43, Zhuangjing Rd., D...   \n",
      "5a72a2fb-505c-476b-a796-17fcf769c99a  { List : [{ Value :  No. 362, Xiping Rd., Doul...   \n",
      "41c44a19-d494-4845-a659-19d5cba5b29a  { List : [{ Value :  No.131, Jianguo Rd., Tuku...   \n",
      "5dfa7fd8-2148-4fb2-b3b3-2d98949c0227  { List : [{ Value :  No.23, Sec. 2, Linsen Rd....   \n",
      "...                                                                                 ...   \n",
      "b40c5eb7-7606-4b93-87ca-02fe58da5838  { List :[{ Value : No. 78?80, Zhongxiao Rd., Y...   \n",
      "f3a88903-7cc3-482c-856f-02a23ca5b87b  { List :[{ Value : Sec. 1, Fuqian Rd., West Ce...   \n",
      "16a11557-2db4-4fb9-a6d0-06bde48315fd  { List :[{ Value : No. 171, Sec. 3, Zhonghua E...   \n",
      "b9540af6-960a-4ace-9897-0418f752dced  { List :[{ Value : No.998, Zhongzheng Rd., Gua...   \n",
      "b407e167-2fa1-4a42-8aa2-040677b460bf  { List :[{ Value : No. 118, Minzu Rd., Gangqia...   \n",
      "\n",
      "                                                                               District  \\\n",
      "Id                                                                                        \n",
      "865a6d73-ab7d-4176-a542-09898fbf7dca  { List : [{ Value :  Huwei Township , Lang :  ...   \n",
      "cc480eeb-93c4-49b1-9b12-15474249b5bf  { List : [{ Value :  Douliu City , Lang :  en-...   \n",
      "5a72a2fb-505c-476b-a796-17fcf769c99a  { List : [{ Value :  Douliu City , Lang :  en-...   \n",
      "41c44a19-d494-4845-a659-19d5cba5b29a  { List : [{ Value :  Tuku Township , Lang :  e...   \n",
      "5dfa7fd8-2148-4fb2-b3b3-2d98949c0227  { List : [{ Value :  Huwei Township , Lang :  ...   \n",
      "...                                                                                 ...   \n",
      "b40c5eb7-7606-4b93-87ca-02fe58da5838  { List :[{ Value : Yongkang Dist. , Lang : en-...   \n",
      "f3a88903-7cc3-482c-856f-02a23ca5b87b  { List :[{ Value : West Central Dist. , Lang :...   \n",
      "16a11557-2db4-4fb9-a6d0-06bde48315fd  { List :[{ Value : East Dist. , Lang : en-US }...   \n",
      "b9540af6-960a-4ace-9897-0418f752dced  { List :[{ Value : Guanmiao Dist. , Lang : en-...   \n",
      "b407e167-2fa1-4a42-8aa2-040677b460bf  { List :[{ Value : Xinshi Dist. , Lang : en-US...   \n",
      "\n",
      "                                      State  \\\n",
      "Id                                            \n",
      "865a6d73-ab7d-4176-a542-09898fbf7dca      1   \n",
      "cc480eeb-93c4-49b1-9b12-15474249b5bf      1   \n",
      "5a72a2fb-505c-476b-a796-17fcf769c99a      1   \n",
      "41c44a19-d494-4845-a659-19d5cba5b29a      1   \n",
      "5dfa7fd8-2148-4fb2-b3b3-2d98949c0227      1   \n",
      "...                                     ...   \n",
      "b40c5eb7-7606-4b93-87ca-02fe58da5838      1   \n",
      "f3a88903-7cc3-482c-856f-02a23ca5b87b      1   \n",
      "16a11557-2db4-4fb9-a6d0-06bde48315fd      1   \n",
      "b9540af6-960a-4ace-9897-0418f752dced      1   \n",
      "b407e167-2fa1-4a42-8aa2-040677b460bf      1   \n",
      "\n",
      "                                                                                   City  \\\n",
      "Id                                                                                        \n",
      "865a6d73-ab7d-4176-a542-09898fbf7dca  { List :[{ Value : Yunlin County , Lang : en-U...   \n",
      "cc480eeb-93c4-49b1-9b12-15474249b5bf  { List :[{ Value : Yunlin County , Lang : en-U...   \n",
      "5a72a2fb-505c-476b-a796-17fcf769c99a  { List :[{ Value : Yunlin County , Lang : en-U...   \n",
      "41c44a19-d494-4845-a659-19d5cba5b29a  { List :[{ Value : Yunlin County , Lang : en-U...   \n",
      "5dfa7fd8-2148-4fb2-b3b3-2d98949c0227  { List :[{ Value : Yunlin County , Lang : en-U...   \n",
      "...                                                                                 ...   \n",
      "b40c5eb7-7606-4b93-87ca-02fe58da5838  { List :[{ Value : Tainan City , Lang : en-US ...   \n",
      "f3a88903-7cc3-482c-856f-02a23ca5b87b  { List :[{ Value : Tainan City , Lang : en-US ...   \n",
      "16a11557-2db4-4fb9-a6d0-06bde48315fd  { List :[{ Value : Tainan City , Lang : en-US ...   \n",
      "b9540af6-960a-4ace-9897-0418f752dced  { List :[{ Value : Tainan City , Lang : en-US ...   \n",
      "b407e167-2fa1-4a42-8aa2-040677b460bf  { List :[{ Value : Tainan City , Lang : en-US ...   \n",
      "\n",
      "                                     AvailableTime AvailableTimeByte  \n",
      "Id                                                                    \n",
      "865a6d73-ab7d-4176-a542-09898fbf7dca          24HR              None  \n",
      "cc480eeb-93c4-49b1-9b12-15474249b5bf          24HR              None  \n",
      "5a72a2fb-505c-476b-a796-17fcf769c99a          24HR              None  \n",
      "41c44a19-d494-4845-a659-19d5cba5b29a          24HR              None  \n",
      "5dfa7fd8-2148-4fb2-b3b3-2d98949c0227          24HR              None  \n",
      "...                                            ...               ...  \n",
      "b40c5eb7-7606-4b93-87ca-02fe58da5838          24HR              None  \n",
      "f3a88903-7cc3-482c-856f-02a23ca5b87b          24HR              None  \n",
      "16a11557-2db4-4fb9-a6d0-06bde48315fd          24HR              None  \n",
      "b9540af6-960a-4ace-9897-0418f752dced          24HR              None  \n",
      "b407e167-2fa1-4a42-8aa2-040677b460bf          24HR              None  \n",
      "\n",
      "[2255 rows x 10 columns]\n"
     ]
    }
   ],
   "source": [
    "import json\n",
    "import pandas as pd\n",
    "with open('./new_data.json', 'r') as f:\n",
    "    data_json = json.load(f)\n",
    "#remove unused element [result, message, error_code]\n",
    "data_json.pop('result')\n",
    "data_json.pop('message')\n",
    "data_json.pop('error_code')\n",
    "# for element in data_json[\"data\"]:\n",
    "#     print(element)\n",
    "with open('final_data.json', 'w') as outfile:\n",
    "    json.dump(data_json, outfile)\n",
    "df = pd.DataFrame(list(data_json['data']))\n",
    "df = df.set_index('Id')\n",
    "print(df)\n"
   ]
  }
 ],
 "metadata": {
  "kernelspec": {
   "display_name": "Python 3",
   "language": "python",
   "name": "python3"
  },
  "language_info": {
   "codemirror_mode": {
    "name": "ipython",
    "version": 3
   },
   "file_extension": ".py",
   "mimetype": "text/x-python",
   "name": "python",
   "nbconvert_exporter": "python",
   "pygments_lexer": "ipython3",
   "version": "3.7.4"
  }
 },
 "nbformat": 4,
 "nbformat_minor": 2
}
